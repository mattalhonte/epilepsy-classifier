{
 "cells": [
  {
   "cell_type": "code",
   "execution_count": 17,
   "metadata": {},
   "outputs": [],
   "source": [
    "from numpy.random import seed\n",
    "seed(1)\n",
    "from tensorflow.compat.v1 import set_random_seed\n",
    "set_random_seed(2)"
   ]
  },
  {
   "cell_type": "code",
   "execution_count": 1,
   "metadata": {},
   "outputs": [],
   "source": [
    "import pandas as pd\n",
    "import numpy as np\n",
    "import tensorflow as tf\n",
    "from tensorflow import keras\n",
    "from sklearn.model_selection import train_test_split\n",
    "from sklearn.preprocessing import robust_scale\n",
    "tf.keras.backend.clear_session()"
   ]
  },
  {
   "cell_type": "code",
   "execution_count": 2,
   "metadata": {},
   "outputs": [],
   "source": [
    "#From here: http://arseny.info/2017/f-beta-score-for-keras.html\n",
    "from sklearn.metrics import fbeta_score\n",
    "from tensorflow.keras import backend as K\n",
    "\n",
    "\n",
    "def fbeta(y_true, y_pred, threshold_shift=0):\n",
    "    beta = 2\n",
    "\n",
    "    # just in case of hipster activation at the final layer\n",
    "    y_pred = K.clip(y_pred, 0, 1)\n",
    "\n",
    "    # shifting the prediction threshold from .5 if needed\n",
    "    y_pred_bin = K.round(y_pred + threshold_shift)\n",
    "\n",
    "    tp = K.sum(K.round(y_true * y_pred_bin)) + K.epsilon()\n",
    "    fp = K.sum(K.round(K.clip(y_pred_bin - y_true, 0, 1)))\n",
    "    fn = K.sum(K.round(K.clip(y_true - y_pred, 0, 1)))\n",
    "\n",
    "    precision = tp / (tp + fp)\n",
    "    recall = tp / (tp + fn)\n",
    "\n",
    "    beta_squared = beta ** 2\n",
    "    return (beta_squared + 1) * (precision * recall) / (beta_squared * precision + recall)"
   ]
  },
  {
   "cell_type": "code",
   "execution_count": 3,
   "metadata": {},
   "outputs": [],
   "source": [
    "df = pd.read_csv(\"../../data/interim/train.csv\")\n",
    "\n",
    "X = df.drop(columns = [\"y\", \"Participant\"])\n",
    "\n",
    "y = df[\"y\"]"
   ]
  },
  {
   "cell_type": "code",
   "execution_count": 4,
   "metadata": {},
   "outputs": [],
   "source": [
    "val = pd.read_csv(\"../../data/interim/validation.csv\")\n",
    "val_X = val[[f\"X{n}\" for n in range(1, 179)]].to_numpy()[:, :, np.newaxis]\n",
    "val_y = val[\"y\"]"
   ]
  },
  {
   "cell_type": "code",
   "execution_count": 5,
   "metadata": {},
   "outputs": [],
   "source": [
    "train, test = train_test_split(\n",
    "    df, test_size=0.3, random_state=0, stratify=df[[\"Participant\", \"y\"]]\n",
    ")"
   ]
  },
  {
   "cell_type": "code",
   "execution_count": 12,
   "metadata": {},
   "outputs": [],
   "source": [
    "train_X = train[[f\"X{n}\" for n in range(1, 179)]].to_numpy()[:, :, np.newaxis]\n",
    "\n",
    "test_X = test[[f\"X{n}\" for n in range(1, 179)]].to_numpy()[:, :, np.newaxis]\n",
    "\n",
    "train_y = train[\"y\"]\n",
    "test_y = test[\"y\"]"
   ]
  },
  {
   "cell_type": "code",
   "execution_count": 22,
   "metadata": {},
   "outputs": [
    {
     "name": "stdout",
     "output_type": "stream",
     "text": [
      "Train on 5578 samples, validate on 2391 samples\n",
      "Epoch 1/40\n",
      "5578/5578 [==============================] - 11s 2ms/sample - loss: 225.7273 - fbeta: 0.4123 - val_loss: 85.1284 - val_fbeta: 0.5312\n",
      "Epoch 2/40\n",
      "5578/5578 [==============================] - 6s 1ms/sample - loss: 26.1546 - fbeta: 0.4302 - val_loss: 9.5761 - val_fbeta: 0.5488\n",
      "Epoch 3/40\n",
      "5578/5578 [==============================] - 6s 1ms/sample - loss: 11.9130 - fbeta: 0.4885 - val_loss: 20.9476 - val_fbeta: 0.2336\n",
      "Epoch 4/40\n",
      "5578/5578 [==============================] - 6s 1ms/sample - loss: 7.3740 - fbeta: 0.5092 - val_loss: 2.3847 - val_fbeta: 0.5780\n",
      "Epoch 5/40\n",
      "5578/5578 [==============================] - 7s 1ms/sample - loss: 4.9501 - fbeta: 0.5322 - val_loss: 1.3698 - val_fbeta: 0.6845\n",
      "Epoch 6/40\n",
      "5578/5578 [==============================] - 7s 1ms/sample - loss: 2.8584 - fbeta: 0.6400 - val_loss: 3.0144 - val_fbeta: 0.7108\n",
      "Epoch 7/40\n",
      "5578/5578 [==============================] - 7s 1ms/sample - loss: 1.5106 - fbeta: 0.6937 - val_loss: 0.9787 - val_fbeta: 0.7877\n",
      "Epoch 8/40\n",
      "5578/5578 [==============================] - 7s 1ms/sample - loss: 1.1197 - fbeta: 0.7205 - val_loss: 0.9454 - val_fbeta: 0.7100\n",
      "Epoch 9/40\n",
      "5578/5578 [==============================] - 7s 1ms/sample - loss: 0.7286 - fbeta: 0.7485 - val_loss: 0.7264 - val_fbeta: 0.6492\n",
      "Epoch 10/40\n",
      "5578/5578 [==============================] - 7s 1ms/sample - loss: 0.5863 - fbeta: 0.7345 - val_loss: 0.4694 - val_fbeta: 0.6926\n",
      "Epoch 11/40\n",
      "5578/5578 [==============================] - 7s 1ms/sample - loss: 0.5146 - fbeta: 0.7436 - val_loss: 0.6565 - val_fbeta: 0.7761\n",
      "Epoch 12/40\n",
      "5578/5578 [==============================] - 7s 1ms/sample - loss: 0.4380 - fbeta: 0.7654 - val_loss: 0.2705 - val_fbeta: 0.7474\n",
      "Epoch 13/40\n",
      "5578/5578 [==============================] - 7s 1ms/sample - loss: 0.3255 - fbeta: 0.7866 - val_loss: 0.2659 - val_fbeta: 0.7872\n",
      "Epoch 14/40\n",
      "5578/5578 [==============================] - 7s 1ms/sample - loss: 0.3005 - fbeta: 0.7905 - val_loss: 0.5418 - val_fbeta: 0.6447\n",
      "Epoch 15/40\n",
      "5578/5578 [==============================] - 6s 1ms/sample - loss: 0.3021 - fbeta: 0.7934 - val_loss: 0.1881 - val_fbeta: 0.7568\n",
      "Epoch 16/40\n",
      "5578/5578 [==============================] - 6s 1ms/sample - loss: 0.2914 - fbeta: 0.8021 - val_loss: 0.2044 - val_fbeta: 0.8118\n",
      "Epoch 17/40\n",
      "5578/5578 [==============================] - 6s 1ms/sample - loss: 0.2859 - fbeta: 0.7794 - val_loss: 0.1852 - val_fbeta: 0.8293\n",
      "Epoch 18/40\n",
      "5578/5578 [==============================] - 6s 1ms/sample - loss: 0.2300 - fbeta: 0.8151 - val_loss: 0.2208 - val_fbeta: 0.8680\n",
      "Epoch 19/40\n",
      "5578/5578 [==============================] - 6s 1ms/sample - loss: 0.2458 - fbeta: 0.8165 - val_loss: 0.2300 - val_fbeta: 0.8421\n",
      "Epoch 20/40\n",
      "5578/5578 [==============================] - 6s 1ms/sample - loss: 0.2054 - fbeta: 0.8076 - val_loss: 0.1916 - val_fbeta: 0.8843\n",
      "Epoch 21/40\n",
      "5578/5578 [==============================] - 6s 1ms/sample - loss: 0.1946 - fbeta: 0.8201 - val_loss: 0.2496 - val_fbeta: 0.6318\n",
      "Epoch 22/40\n",
      "5578/5578 [==============================] - 6s 1ms/sample - loss: 0.3354 - fbeta: 0.8147 - val_loss: 0.3424 - val_fbeta: 0.8752\n",
      "Epoch 23/40\n",
      "5578/5578 [==============================] - 6s 1ms/sample - loss: 0.1848 - fbeta: 0.8135 - val_loss: 0.2213 - val_fbeta: 0.8718\n",
      "Epoch 24/40\n",
      "5578/5578 [==============================] - 6s 1ms/sample - loss: 0.1737 - fbeta: 0.8199 - val_loss: 0.2232 - val_fbeta: 0.7675\n",
      "Epoch 25/40\n",
      "5578/5578 [==============================] - 6s 1ms/sample - loss: 0.1768 - fbeta: 0.8184 - val_loss: 0.2077 - val_fbeta: 0.7503\n",
      "Epoch 26/40\n",
      "5578/5578 [==============================] - 6s 1ms/sample - loss: 0.2241 - fbeta: 0.8310 - val_loss: 0.1485 - val_fbeta: 0.7761 - f\n",
      "Epoch 27/40\n",
      "5578/5578 [==============================] - 6s 1ms/sample - loss: 0.1690 - fbeta: 0.8434 - val_loss: 0.3875 - val_fbeta: 0.6982\n",
      "Epoch 28/40\n",
      "5578/5578 [==============================] - 6s 1ms/sample - loss: 0.1683 - fbeta: 0.8424 - val_loss: 0.1274 - val_fbeta: 0.8489\n",
      "Epoch 29/40\n",
      "5578/5578 [==============================] - 6s 1ms/sample - loss: 0.1901 - fbeta: 0.8409 - val_loss: 0.1542 - val_fbeta: 0.8716\n",
      "Epoch 30/40\n",
      "5578/5578 [==============================] - 6s 1ms/sample - loss: 0.2427 - fbeta: 0.8435 - val_loss: 0.1961 - val_fbeta: 0.8749\n",
      "Epoch 31/40\n",
      "5578/5578 [==============================] - 6s 1ms/sample - loss: 0.1926 - fbeta: 0.8337 - val_loss: 0.1380 - val_fbeta: 0.8646\n",
      "Epoch 32/40\n",
      "5578/5578 [==============================] - 6s 1ms/sample - loss: 0.1821 - fbeta: 0.8366 - val_loss: 0.1573 - val_fbeta: 0.8678\n",
      "Epoch 33/40\n",
      "5578/5578 [==============================] - 6s 1ms/sample - loss: 0.1532 - fbeta: 0.8496 - val_loss: 0.1633 - val_fbeta: 0.8949\n",
      "Epoch 34/40\n",
      "5578/5578 [==============================] - 6s 1ms/sample - loss: 0.1566 - fbeta: 0.8578 - val_loss: 0.1358 - val_fbeta: 0.8322\n",
      "Epoch 35/40\n",
      "5578/5578 [==============================] - 6s 1ms/sample - loss: 0.1462 - fbeta: 0.8453 - val_loss: 0.2894 - val_fbeta: 0.8174\n",
      "Epoch 36/40\n",
      "5578/5578 [==============================] - 6s 1ms/sample - loss: 0.1533 - fbeta: 0.8564 - val_loss: 0.1430 - val_fbeta: 0.8372\n",
      "Epoch 37/40\n",
      "5578/5578 [==============================] - 6s 1ms/sample - loss: 0.2791 - fbeta: 0.8477 - val_loss: 0.1395 - val_fbeta: 0.8209\n",
      "Epoch 38/40\n",
      "5578/5578 [==============================] - 6s 1ms/sample - loss: 0.1509 - fbeta: 0.8452 - val_loss: 0.2411 - val_fbeta: 0.8030\n",
      "Epoch 39/40\n",
      "5578/5578 [==============================] - 6s 1ms/sample - loss: 0.1523 - fbeta: 0.8488 - val_loss: 0.1429 - val_fbeta: 0.8239\n",
      "Epoch 40/40\n",
      "5578/5578 [==============================] - 6s 1ms/sample - loss: 0.1400 - fbeta: 0.8561 - val_loss: 0.1868 - val_fbeta: 0.7910\n"
     ]
    }
   ],
   "source": [
    "model = keras.models.Sequential(\n",
    "    [TCN(\n",
    "         input_shape=[178, 1],\n",
    "         kernel_size=2, \n",
    "         activation=\"relu\", \n",
    "         dilations=[rate for rate in (1, 2, 4, 8) * 2],\n",
    "         return_sequences=False,\n",
    "        ),\n",
    "     Dense(1, activation='sigmoid')\n",
    "    ]\n",
    ")\n",
    "\n",
    "model.compile(optimizer='rmsprop',\n",
    "              loss='binary_crossentropy',\n",
    "              metrics=[fbeta],\n",
    "             )\n",
    "history = model.fit(train_X, train_y.to_numpy(),\n",
    "                    epochs=40,\n",
    "                    batch_size=32,\n",
    "                    validation_data=[test_X, test_y.to_numpy()])"
   ]
  },
  {
   "cell_type": "code",
   "execution_count": 23,
   "metadata": {},
   "outputs": [
    {
     "data": {
      "text/plain": [
       "0.8323299217338953"
      ]
     },
     "execution_count": 23,
     "metadata": {},
     "output_type": "execute_result"
    }
   ],
   "source": [
    "pred_val = model.predict(val_X.astype(float))\n",
    "\n",
    "pred_val_rounded = pred_val.round()\n",
    "\n",
    "score = fbeta_score(val_y, pred_val_rounded, beta=2)\n",
    "\n",
    "score"
   ]
  },
  {
   "cell_type": "code",
   "execution_count": 24,
   "metadata": {},
   "outputs": [
    {
     "name": "stdout",
     "output_type": "stream",
     "text": [
      "1.12 s ± 13.8 ms per loop (mean ± std. dev. of 7 runs, 1 loop each)\n"
     ]
    }
   ],
   "source": [
    "%%timeit\n",
    "pred_val = model.predict(val_X.astype(float)).round()"
   ]
  },
  {
   "cell_type": "code",
   "execution_count": null,
   "metadata": {},
   "outputs": [],
   "source": []
  }
 ],
 "metadata": {
  "kernelspec": {
   "display_name": "Python [conda env:tf]",
   "language": "python",
   "name": "conda-env-tf-py"
  },
  "language_info": {
   "codemirror_mode": {
    "name": "ipython",
    "version": 3
   },
   "file_extension": ".py",
   "mimetype": "text/x-python",
   "name": "python",
   "nbconvert_exporter": "python",
   "pygments_lexer": "ipython3",
   "version": "3.7.4"
  }
 },
 "nbformat": 4,
 "nbformat_minor": 4
}
