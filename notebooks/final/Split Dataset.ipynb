{
 "cells": [
  {
   "cell_type": "code",
   "execution_count": 4,
   "metadata": {},
   "outputs": [],
   "source": [
    "import pandas as pd\n",
    "import numpy as np\n",
    "import requests\n",
    "from typing import List\n",
    "from sklearn.model_selection import train_test_split"
   ]
  },
  {
   "cell_type": "code",
   "execution_count": null,
   "metadata": {},
   "outputs": [],
   "source": [
    "#Download original data\n",
    "url = \"https://archive.ics.uci.edu/ml/machine-learning-databases/00388/data.csv\"\n",
    "\n",
    "r = requests.get(url)\n",
    "\n",
    "with open(\"../../data/raw/data.csv\", 'wb') as f:\n",
    "    f.write(r.content)"
   ]
  },
  {
   "cell_type": "code",
   "execution_count": null,
   "metadata": {},
   "outputs": [],
   "source": [
    "def assign_split_col(df: pd.DataFrame, col: str, name_list: List[str], pat: str=None):\n",
    "    df = df.copy()\n",
    "    split_col = df[col].str.split(pat, expand=True)\n",
    "\n",
    "    return df.assign(\n",
    "        **dict(\n",
    "            zip(name_list, [split_col.iloc[:, x] for x in range(split_col.shape[1])])\n",
    "        )\n",
    "    )"
   ]
  },
  {
   "cell_type": "code",
   "execution_count": null,
   "metadata": {},
   "outputs": [],
   "source": [
    "df = pd.read_csv(\"../../data/raw/data.csv\")"
   ]
  },
  {
   "cell_type": "code",
   "execution_count": null,
   "metadata": {},
   "outputs": [],
   "source": [
    "#Split the ID column into different variables.  Recode outcomes into Seizure and\n",
    "#non-Seizure\n",
    "edited_df = (\n",
    "    df.pipe(\n",
    "        assign_split_col,\n",
    "        col=\"Unnamed: 0\",\n",
    "        name_list=[\"nth_chunk\", \"File\", \"Participant\"],\n",
    "        pat=\".\",\n",
    "    )\n",
    "    .loc[lambda x: ~x[\"Participant\"].isna()]\n",
    "    .sort_values(by=\"nth_chunk\")\n",
    "    .drop(columns=[\"Unnamed: 0\", \"nth_chunk\", \"File\"])\n",
    "    .assign(y = lambda x: x[\"y\"].mask(lambda x: x>1, 0))\n",
    "\n",
    ")\n",
    "\n",
    "train, validation = train_test_split(\n",
    "    edited_df, test_size=0.3, random_state=0, stratify=edited_df[[\"Participant\", \"y\"]]\n",
    ")\n",
    "\n",
    "train.to_csv(\"../../data/interim/train.csv\", index=False)\n",
    "validation.to_csv(\"../../data/interim/validation.csv\", index=False)"
   ]
  },
  {
   "cell_type": "code",
   "execution_count": null,
   "metadata": {},
   "outputs": [],
   "source": []
  }
 ],
 "metadata": {
  "kernelspec": {
   "display_name": "Python [conda env:py_37]",
   "language": "python",
   "name": "conda-env-py_37-py"
  },
  "language_info": {
   "codemirror_mode": {
    "name": "ipython",
    "version": 3
   },
   "file_extension": ".py",
   "mimetype": "text/x-python",
   "name": "python",
   "nbconvert_exporter": "python",
   "pygments_lexer": "ipython3",
   "version": "3.7.4"
  }
 },
 "nbformat": 4,
 "nbformat_minor": 4
}
