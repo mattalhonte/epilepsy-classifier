{
 "cells": [
  {
   "cell_type": "code",
   "execution_count": 4,
   "metadata": {},
   "outputs": [],
   "source": [
    "import pandas as pd\n",
    "import numpy as np\n",
    "#import tensorflow as tf\n",
    "#from tensorflow import keras\n",
    "from sklearn.model_selection import train_test_split\n",
    "from sklearn.preprocessing import robust_scale\n",
    "#tf.keras.backend.clear_session()"
   ]
  },
  {
   "cell_type": "code",
   "execution_count": 5,
   "metadata": {},
   "outputs": [],
   "source": [
    "from typing import List\n",
    "\n",
    "def assign_split_col(df: pd.DataFrame, col: str, name_list: List[str], pat: str=None):\n",
    "    df = df.copy()\n",
    "    split_col = df[col].str.split(pat, expand=True)\n",
    "\n",
    "    return df.assign(\n",
    "        **dict(\n",
    "            zip(name_list, [split_col.iloc[:, x] for x in range(split_col.shape[1])])\n",
    "        )\n",
    "    )"
   ]
  },
  {
   "cell_type": "code",
   "execution_count": 6,
   "metadata": {},
   "outputs": [],
   "source": [
    "df = pd.read_csv(\"../../data/raw/data.csv\")\n"
   ]
  },
  {
   "cell_type": "code",
   "execution_count": 7,
   "metadata": {},
   "outputs": [],
   "source": [
    "edited_df = (\n",
    "    df.pipe(\n",
    "        assign_split_col,\n",
    "        col=\"Unnamed: 0\",\n",
    "        name_list=[\"nth_chunk\", \"File\", \"Participant\"],\n",
    "        pat=\".\",\n",
    "    )\n",
    "    .loc[lambda x: ~x[\"Participant\"].isna()]\n",
    "    .sort_values(by=\"nth_chunk\")\n",
    "    .drop(columns=[\"Unnamed: 0\", \"nth_chunk\", \"File\"])\n",
    "    .assign(y = lambda x: x[\"y\"].mask(lambda x: x>1, 0))\n",
    "\n",
    ")\n",
    "\n",
    "train, validation = train_test_split(\n",
    "    edited_df, test_size=0.3, random_state=0, stratify=edited_df[[\"Participant\", \"y\"]]\n",
    ")"
   ]
  },
  {
   "cell_type": "code",
   "execution_count": 9,
   "metadata": {},
   "outputs": [],
   "source": [
    "with_split_ids = (\n",
    "    df.pipe(\n",
    "        assign_split_col,\n",
    "        col=\"Unnamed: 0\",\n",
    "        name_list=[\"nth_chunk\", \"File\", \"Participant\"],\n",
    "        pat=\".\",\n",
    "    )\n",
    "    .loc[lambda x: ~x[\"Participant\"].isna()]\n",
    "    .sort_values(by=[\"Participant\", \"nth_chunk\"])\n",
    "    .drop(columns=[\"Unnamed: 0\"])\n",
    "\n",
    ")"
   ]
  },
  {
   "cell_type": "code",
   "execution_count": 10,
   "metadata": {},
   "outputs": [],
   "source": [
    "with_split_ids.to_csv(\"../../data/interim/with_split_ids.csv\", index=False)"
   ]
  },
  {
   "cell_type": "code",
   "execution_count": 7,
   "metadata": {},
   "outputs": [],
   "source": [
    "train.to_csv(\"../../data/interim/train.csv\", index=False)"
   ]
  },
  {
   "cell_type": "code",
   "execution_count": 8,
   "metadata": {},
   "outputs": [],
   "source": [
    "validation.to_csv(\"../../data/interim/validation.csv\", index=False)"
   ]
  },
  {
   "cell_type": "code",
   "execution_count": 9,
   "metadata": {},
   "outputs": [],
   "source": [
    "#Keep a seperate Validation set that's never been seen"
   ]
  },
  {
   "cell_type": "code",
   "execution_count": null,
   "metadata": {},
   "outputs": [],
   "source": [
    "import pandas as pd\n",
    "import stumpy\n",
    "import numpy as np\n",
    "from numba import cuda\n",
    "%matplotlib inline\n",
    "import matplotlib.pyplot as plt\n",
    "import matplotlib.dates as dates\n",
    "from matplotlib.patches import Rectangle\n",
    "import datetime as dt\n",
    "import itertools\n",
    "from numba import cuda\n",
    "\n",
    "orig_df = pd.read_csv(\"../../data/interim/train.csv\")\n",
    "df = orig_df.drop(columns=[\"y\", \"Participant\"])\n",
    "\n",
    "df_float = df.astype(float)\n",
    "\n",
    "all_gpu_devices = [device.id for device in cuda.list_devices()]\n",
    "\n",
    "m = 30\n",
    "df_float_with_mean_mp = df_float.assign(mean_mp = lambda x: \n",
    "                                        x.apply(lambda y: \n",
    "                                                stumpy.gpu_stump(y, \n",
    "                                                                 m = m, \n",
    "                                                                 device_id=all_gpu_devices )[:, 0].mean(),\n",
    "                                               axis=1))\n",
    "\n",
    "df_float_with_mean_mp[\"y\"] = orig_df[\"y\"]"
   ]
  },
  {
   "cell_type": "code",
   "execution_count": null,
   "metadata": {},
   "outputs": [],
   "source": [
    "import pandas as pd\n",
    "import stumpy\n",
    "import numpy as np\n",
    "from numba import cuda\n",
    "%matplotlib inline\n",
    "import matplotlib.pyplot as plt\n",
    "import matplotlib.dates as dates\n",
    "from matplotlib.patches import Rectangle\n",
    "import datetime as dt\n",
    "import itertools\n",
    "from numba import cuda\n",
    "\n",
    "orig_df = pd.read_csv(\"../../data/interim/train.csv\")\n",
    "df = orig_df.drop(columns=[\"y\", \"Participant\"])\n",
    "df_float = df.astype(float)\n",
    "all_gpu_devices = [device.id for device in cuda.list_devices()]\n",
    "\n",
    "m = 30\n",
    "\n",
    "mps = df_float.apply(lambda y: \n",
    "                     stumpy.gpu_stump(y, \n",
    "                                      m = m, \n",
    "                                      device_id=all_gpu_devices )[:, 0],\n",
    "                     axis=1)\n",
    "\n",
    "mps_df = pd.DataFrame(mps)\n",
    "\n",
    "reshaped = mps_df.apply(lambda y: \n",
    "                     pd.Series(y.values[0]),\n",
    "                     axis=1)\n",
    "\n",
    "reshaped[\"y\"] = orig_df[\"y\"]\n",
    "\n",
    "reshaped.to_csv(\"../../data/interim/transformed_to_mps.csv\", index=False)"
   ]
  },
  {
   "cell_type": "code",
   "execution_count": null,
   "metadata": {},
   "outputs": [],
   "source": [
    "mp_df = pd.read_csv(\"../../data/interim/transformed_to_mps.csv\")\n",
    "\n",
    "X = mp_df.drop(columns = [\"y\"])\n",
    "y = mp_df[\"y\"]\n",
    "\n",
    "descs = X.apply(lambda x: x.describe(), axis=1)\n",
    "\n",
    "X_modded = descs.drop(columns = [\"count\"])\n",
    "\n",
    "X_modded_with_y = pd.concat([X_modded, y], axis=1)\n",
    "\n",
    "X_modded_with_y.to_csv(\"../../data/interim/mps_descs.csv\", index=False)"
   ]
  }
 ],
 "metadata": {
  "kernelspec": {
   "display_name": "Python [conda env:py_37]",
   "language": "python",
   "name": "conda-env-py_37-py"
  },
  "language_info": {
   "codemirror_mode": {
    "name": "ipython",
    "version": 3
   },
   "file_extension": ".py",
   "mimetype": "text/x-python",
   "name": "python",
   "nbconvert_exporter": "python",
   "pygments_lexer": "ipython3",
   "version": "3.7.4"
  }
 },
 "nbformat": 4,
 "nbformat_minor": 4
}
